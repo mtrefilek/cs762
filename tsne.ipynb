{
  "nbformat": 4,
  "nbformat_minor": 0,
  "metadata": {
    "colab": {
      "name": "tsne.ipynb",
      "provenance": [],
      "collapsed_sections": [],
      "include_colab_link": true
    },
    "kernelspec": {
      "name": "python3",
      "display_name": "Python 3"
    },
    "language_info": {
      "name": "python"
    }
  },
  "cells": [
    {
      "cell_type": "markdown",
      "metadata": {
        "id": "view-in-github",
        "colab_type": "text"
      },
      "source": [
        "<a href=\"https://colab.research.google.com/github/mtrefilek/cs762/blob/main/tsne.ipynb\" target=\"_parent\"><img src=\"https://colab.research.google.com/assets/colab-badge.svg\" alt=\"Open In Colab\"/></a>"
      ]
    },
    {
      "cell_type": "code",
      "source": [
        "from __future__ import print_function\n",
        "import time\n",
        "import numpy as np\n",
        "import pandas as pd\n",
        "from sklearn.decomposition import PCA\n",
        "from sklearn.manifold import TSNE\n",
        "%matplotlib inline\n",
        "import matplotlib.pyplot as plt\n",
        "from mpl_toolkits.mplot3d import Axes3D\n",
        "import seaborn as sns"
      ],
      "metadata": {
        "id": "-blbZR4d3o0s"
      },
      "execution_count": 13,
      "outputs": []
    },
    {
      "cell_type": "code",
      "execution_count": 14,
      "metadata": {
        "id": "wZZzy0AP007S"
      },
      "outputs": [],
      "source": [
        "def gen_tsne(dataset_file_name, dataset_path):\n",
        "  dataset_file = dataset_file_name\n",
        "  save_path = \"/content/drive/MyDrive/CS762-Project/figures/\"\n",
        "  data = np.load(dataset_path+dataset_file+\".npz\", allow_pickle=True)\n",
        "  feature_matrices = np.asarray(data[\"feature_matrices\"])\n",
        "  feat_cols = [ 'feature'+str(i) for i in range(feature_matrices[0][0].size) ]\n",
        "  df = pd.DataFrame(feature_matrices[0],columns=feat_cols)\n",
        "  df['y'] = data[\"classnames\"][0]\n",
        "  for i in range(1,feature_matrices.size):\n",
        "    df2 = pd.DataFrame(feature_matrices[i],columns=feat_cols)\n",
        "    df2['y'] = data[\"classnames\"][i]\n",
        "    df = df.append(df2)\n",
        "  df['label'] = df['y'].apply(lambda i: str(i))\n",
        "  df = df.reset_index(drop=True)\n",
        "\n",
        "  np.random.seed(42)\n",
        "  rndperm = np.random.permutation(df.shape[0])\n",
        "\n",
        "  N = 10000\n",
        "  df_subset = df.reindex(rndperm[:N]).copy()\n",
        "  data_subset = df_subset[feat_cols].values\n",
        "\n",
        "\n",
        "  time_start = time.time()\n",
        "  tsne = TSNE(n_components=2, verbose=1, perplexity=40, n_iter=300)\n",
        "  tsne_results = tsne.fit_transform(data_subset)\n",
        "  print('t-SNE done! Time elapsed: {} seconds'.format(time.time()-time_start))\n",
        "\n",
        "  df_subset['tsne-2d-one'] = tsne_results[:,0]\n",
        "  df_subset['tsne-2d-two'] = tsne_results[:,1]\n",
        "  plt.figure(figsize=(16,10))\n",
        "  sns.scatterplot(\n",
        "      x=\"tsne-2d-one\", y=\"tsne-2d-two\",\n",
        "      hue=\"y\",\n",
        "      palette=sns.color_palette(\"hls\", 10),\n",
        "      data=df_subset,\n",
        "      legend=\"full\",\n",
        "      alpha=0.3\n",
        "  )\n",
        "\n",
        "  plt.savefig(save_path+dataset_file+\".png\")"
      ]
    },
    {
      "cell_type": "code",
      "source": [
        "from google.colab import drive\n",
        "drive.mount('/content/drive')"
      ],
      "metadata": {
        "id": "h8GNLo3FKVR9",
        "outputId": "62de0805-7f98-42df-ae6d-f4cb7b053f8f",
        "colab": {
          "base_uri": "https://localhost:8080/"
        }
      },
      "execution_count": 15,
      "outputs": [
        {
          "output_type": "stream",
          "name": "stdout",
          "text": [
            "Drive already mounted at /content/drive; to attempt to forcibly remount, call drive.mount(\"/content/drive\", force_remount=True).\n"
          ]
        }
      ]
    },
    {
      "cell_type": "code",
      "source": [
        "from os import listdir\n",
        "from os.path import isfile, join\n",
        "\n",
        "mypath = \"/content/drive/MyDrive/CS762-Project/extracted_features/\"\n",
        "onlyfiles = [f for f in listdir(mypath) if isfile(join(mypath, f))]\n",
        "for f in onlyfiles:\n",
        "  f_str = f.rsplit('.', 1)[0]\n",
        "  print(\"Doing File \" + f_str)\n",
        "  gen_tsne(f_str, mypath)"
      ],
      "metadata": {
        "id": "neVbU0N8KJ-w",
        "outputId": "6321202a-8ee7-462b-dcc6-8dd46a205877",
        "colab": {
          "base_uri": "https://localhost:8080/"
        }
      },
      "execution_count": null,
      "outputs": [
        {
          "output_type": "stream",
          "name": "stdout",
          "text": [
            "Doing File MNIST_clip-vit-base-patch32_test\n"
          ]
        },
        {
          "output_type": "stream",
          "name": "stderr",
          "text": [
            "/usr/local/lib/python3.7/dist-packages/sklearn/manifold/_t_sne.py:783: FutureWarning: The default initialization in TSNE will change from 'random' to 'pca' in 1.2.\n",
            "  FutureWarning,\n",
            "/usr/local/lib/python3.7/dist-packages/sklearn/manifold/_t_sne.py:793: FutureWarning: The default learning rate in TSNE will change from 200.0 to 'auto' in 1.2.\n",
            "  FutureWarning,\n"
          ]
        },
        {
          "output_type": "stream",
          "name": "stdout",
          "text": [
            "[t-SNE] Computing 121 nearest neighbors...\n",
            "[t-SNE] Indexed 10000 samples in 0.004s...\n",
            "[t-SNE] Computed neighbors for 10000 samples in 3.880s...\n",
            "[t-SNE] Computed conditional probabilities for sample 1000 / 10000\n",
            "[t-SNE] Computed conditional probabilities for sample 2000 / 10000\n",
            "[t-SNE] Computed conditional probabilities for sample 3000 / 10000\n",
            "[t-SNE] Computed conditional probabilities for sample 4000 / 10000\n",
            "[t-SNE] Computed conditional probabilities for sample 5000 / 10000\n",
            "[t-SNE] Computed conditional probabilities for sample 6000 / 10000\n",
            "[t-SNE] Computed conditional probabilities for sample 7000 / 10000\n",
            "[t-SNE] Computed conditional probabilities for sample 8000 / 10000\n",
            "[t-SNE] Computed conditional probabilities for sample 9000 / 10000\n",
            "[t-SNE] Computed conditional probabilities for sample 10000 / 10000\n",
            "[t-SNE] Mean sigma: 0.644571\n",
            "[t-SNE] KL divergence after 250 iterations with early exaggeration: 82.687866\n",
            "[t-SNE] KL divergence after 300 iterations: 2.738003\n",
            "t-SNE done! Time elapsed: 38.94963335990906 seconds\n",
            "Doing File MNIST_clip-vit-base-patch32_train\n"
          ]
        },
        {
          "output_type": "stream",
          "name": "stderr",
          "text": [
            "/usr/local/lib/python3.7/dist-packages/sklearn/manifold/_t_sne.py:783: FutureWarning: The default initialization in TSNE will change from 'random' to 'pca' in 1.2.\n",
            "  FutureWarning,\n",
            "/usr/local/lib/python3.7/dist-packages/sklearn/manifold/_t_sne.py:793: FutureWarning: The default learning rate in TSNE will change from 200.0 to 'auto' in 1.2.\n",
            "  FutureWarning,\n"
          ]
        },
        {
          "output_type": "stream",
          "name": "stdout",
          "text": [
            "[t-SNE] Computing 121 nearest neighbors...\n",
            "[t-SNE] Indexed 10000 samples in 0.004s...\n",
            "[t-SNE] Computed neighbors for 10000 samples in 3.900s...\n",
            "[t-SNE] Computed conditional probabilities for sample 1000 / 10000\n",
            "[t-SNE] Computed conditional probabilities for sample 2000 / 10000\n",
            "[t-SNE] Computed conditional probabilities for sample 3000 / 10000\n",
            "[t-SNE] Computed conditional probabilities for sample 4000 / 10000\n",
            "[t-SNE] Computed conditional probabilities for sample 5000 / 10000\n",
            "[t-SNE] Computed conditional probabilities for sample 6000 / 10000\n",
            "[t-SNE] Computed conditional probabilities for sample 7000 / 10000\n",
            "[t-SNE] Computed conditional probabilities for sample 8000 / 10000\n",
            "[t-SNE] Computed conditional probabilities for sample 9000 / 10000\n",
            "[t-SNE] Computed conditional probabilities for sample 10000 / 10000\n",
            "[t-SNE] Mean sigma: 0.643370\n",
            "[t-SNE] KL divergence after 250 iterations with early exaggeration: 83.149033\n",
            "[t-SNE] KL divergence after 300 iterations: 2.747450\n",
            "t-SNE done! Time elapsed: 45.47012662887573 seconds\n",
            "Doing File FMNIST_clip-vit-base-patch32_train\n"
          ]
        }
      ]
    }
  ]
}