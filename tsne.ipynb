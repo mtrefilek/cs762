{
  "nbformat": 4,
  "nbformat_minor": 0,
  "metadata": {
    "colab": {
      "name": "tsne.ipynb",
      "provenance": [],
      "collapsed_sections": [],
      "mount_file_id": "1yjayyu3rypCE8l0L0ZXxLl8KHXsY44vv",
      "authorship_tag": "ABX9TyPVOdGTbrgL/n7pY3MUqzqx",
      "include_colab_link": true
    },
    "kernelspec": {
      "name": "python3",
      "display_name": "Python 3"
    },
    "language_info": {
      "name": "python"
    }
  },
  "cells": [
    {
      "cell_type": "markdown",
      "metadata": {
        "id": "view-in-github",
        "colab_type": "text"
      },
      "source": [
        "<a href=\"https://colab.research.google.com/github/mtrefilek/cs762/blob/main/tsne.ipynb\" target=\"_parent\"><img src=\"https://colab.research.google.com/assets/colab-badge.svg\" alt=\"Open In Colab\"/></a>"
      ]
    },
    {
      "cell_type": "code",
      "source": [
        "from __future__ import print_function\n",
        "import time\n",
        "import numpy as np\n",
        "import pandas as pd\n",
        "from sklearn.decomposition import PCA\n",
        "from sklearn.manifold import TSNE\n",
        "%matplotlib inline\n",
        "import matplotlib.pyplot as plt\n",
        "from mpl_toolkits.mplot3d import Axes3D\n",
        "import seaborn as sns"
      ],
      "metadata": {
        "id": "-blbZR4d3o0s"
      },
      "execution_count": 70,
      "outputs": []
    },
    {
      "cell_type": "code",
      "execution_count": 72,
      "metadata": {
        "id": "wZZzy0AP007S"
      },
      "outputs": [],
      "source": [
        "def gen_tsne(dataset_file_name):\n",
        "  dataset_file = dataset_file_name\n",
        "  save_path = \"drive/MyDrive/figures/\"\n",
        "  data = np.load(dataset_file+\".npz\", allow_pickle=True)\n",
        "  feature_matrices = np.asarray(data[\"feature_matrices\"])\n",
        "  feat_cols = [ 'feature'+str(i) for i in range(feature_matrices[0][0].size) ]\n",
        "  df = pd.DataFrame(feature_matrices[0],columns=feat_cols)\n",
        "  df['y'] = data[\"classnames\"][0]\n",
        "  for i in range(1,feature_matrices.size):\n",
        "    df2 = pd.DataFrame(feature_matrices[i],columns=feat_cols)\n",
        "    df2['y'] = data[\"classnames\"][i]\n",
        "    df = df.append(df2)\n",
        "  df['label'] = df['y'].apply(lambda i: str(i))\n",
        "  df = df.reset_index(drop=True)\n",
        "\n",
        "  np.random.seed(42)\n",
        "  rndperm = np.random.permutation(df.shape[0])\n",
        "\n",
        "  N = 10000\n",
        "  df_subset = df.reindex(rndperm[:N]).copy()\n",
        "  data_subset = df_subset[feat_cols].values\n",
        "\n",
        "\n",
        "  time_start = time.time()\n",
        "  tsne = TSNE(n_components=2, verbose=1, perplexity=40, n_iter=300)\n",
        "  tsne_results = tsne.fit_transform(data_subset)\n",
        "  print('t-SNE done! Time elapsed: {} seconds'.format(time.time()-time_start))\n",
        "\n",
        "  df_subset['tsne-2d-one'] = tsne_results[:,0]\n",
        "  df_subset['tsne-2d-two'] = tsne_results[:,1]\n",
        "  plt.figure(figsize=(16,10))\n",
        "  sns.scatterplot(\n",
        "      x=\"tsne-2d-one\", y=\"tsne-2d-two\",\n",
        "      hue=\"y\",\n",
        "      palette=sns.color_palette(\"hls\", 10),\n",
        "      data=df_subset,\n",
        "      legend=\"full\",\n",
        "      alpha=0.3\n",
        "  )\n",
        "\n",
        "  plt.savefig(save_path+dataset_file+\".png\")"
      ]
    },
    {
      "cell_type": "code",
      "source": [
        ""
      ],
      "metadata": {
        "id": "neVbU0N8KJ-w"
      },
      "execution_count": null,
      "outputs": []
    }
  ]
}